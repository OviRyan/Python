{
  "nbformat": 4,
  "nbformat_minor": 0,
  "metadata": {
    "colab": {
      "provenance": []
    },
    "kernelspec": {
      "name": "python3",
      "display_name": "Python 3"
    },
    "language_info": {
      "name": "python"
    }
  },
  "cells": [
    {
      "cell_type": "markdown",
      "source": [
        "Printing"
      ],
      "metadata": {
        "id": "nLSaqPR3GqU_"
      }
    },
    {
      "cell_type": "code",
      "execution_count": null,
      "metadata": {
        "colab": {
          "base_uri": "https://localhost:8080/"
        },
        "id": "_oCh2Q4QDQvG",
        "outputId": "d755930d-cf8f-4034-eb4e-28f6c74d9cd5"
      },
      "outputs": [
        {
          "output_type": "stream",
          "name": "stdout",
          "text": [
            "ovi\n"
          ]
        }
      ],
      "source": [
        "print (\"ovi\")"
      ]
    },
    {
      "cell_type": "markdown",
      "source": [
        "comments"
      ],
      "metadata": {
        "id": "ryVOGkmsGvdB"
      }
    },
    {
      "cell_type": "code",
      "source": [
        "# ovi shahriar\n",
        "name = \" ovi \"\n",
        "print (name)"
      ],
      "metadata": {
        "id": "UwI8RyylG4iV"
      },
      "execution_count": null,
      "outputs": []
    },
    {
      "cell_type": "markdown",
      "source": [
        "variable"
      ],
      "metadata": {
        "id": "9PU6a6wLHxDp"
      }
    },
    {
      "cell_type": "code",
      "source": [
        "age = 21 #int\n",
        "salary = 117.31 #float\n",
        "name = \"arklab.ai\" #str\n",
        "have = 1j #complex\n",
        "real = True #bool\n",
        "\n",
        "\n",
        "print (age , salary , name, have, real)\n"
      ],
      "metadata": {
        "colab": {
          "base_uri": "https://localhost:8080/"
        },
        "id": "leCdHbKFHUVm",
        "outputId": "498a7570-122b-479d-f6fb-af08942f6d38"
      },
      "execution_count": null,
      "outputs": [
        {
          "output_type": "stream",
          "name": "stdout",
          "text": [
            "21 117.31 arklab.ai 1j True\n"
          ]
        }
      ]
    },
    {
      "cell_type": "code",
      "source": [],
      "metadata": {
        "id": "YA_gUm2WG68F"
      },
      "execution_count": null,
      "outputs": []
    },
    {
      "cell_type": "code",
      "source": [],
      "metadata": {
        "colab": {
          "base_uri": "https://localhost:8080/"
        },
        "id": "o3WiI8_eHLOA",
        "outputId": "626646a3-223c-442b-c9e9-ccf78318ed27"
      },
      "execution_count": null,
      "outputs": [
        {
          "output_type": "stream",
          "name": "stdout",
          "text": [
            " ovi \n"
          ]
        }
      ]
    }
  ]
}