{
  "nbformat": 4,
  "nbformat_minor": 0,
  "metadata": {
    "colab": {
      "provenance": []
    },
    "kernelspec": {
      "name": "python3",
      "display_name": "Python 3"
    },
    "language_info": {
      "name": "python"
    }
  },
  "cells": [
    {
      "cell_type": "markdown",
      "source": [
        "Printing"
      ],
      "metadata": {
        "id": "nLSaqPR3GqU_"
      }
    },
    {
      "cell_type": "code",
      "execution_count": null,
      "metadata": {
        "colab": {
          "base_uri": "https://localhost:8080/"
        },
        "id": "_oCh2Q4QDQvG",
        "outputId": "d755930d-cf8f-4034-eb4e-28f6c74d9cd5"
      },
      "outputs": [
        {
          "output_type": "stream",
          "name": "stdout",
          "text": [
            "ovi\n"
          ]
        }
      ],
      "source": [
        "print (\"ovi\")"
      ]
    },
    {
      "cell_type": "markdown",
      "source": [
        "comments"
      ],
      "metadata": {
        "id": "ryVOGkmsGvdB"
      }
    },
    {
      "cell_type": "code",
      "source": [
        "# ovi shahriar\n",
        "name = \" ovi \"\n",
        "print (name)"
      ],
      "metadata": {
        "id": "UwI8RyylG4iV"
      },
      "execution_count": null,
      "outputs": []
    },
    {
      "cell_type": "markdown",
      "source": [
        "variable"
      ],
      "metadata": {
        "id": "9PU6a6wLHxDp"
      }
    },
    {
      "cell_type": "code",
      "source": [
        "age = 21 #int\n",
        "salary = 117.31 #float\n",
        "name = \"arklab.ai\" #str\n",
        "have = 1j #complex\n",
        "real = True #bool\n",
        "\n",
        "\n",
        "print (age , salary , name, have, real)\n"
      ],
      "metadata": {
        "colab": {
          "base_uri": "https://localhost:8080/"
        },
        "id": "leCdHbKFHUVm",
        "outputId": "498a7570-122b-479d-f6fb-af08942f6d38"
      },
      "execution_count": null,
      "outputs": [
        {
          "output_type": "stream",
          "name": "stdout",
          "text": [
            "21 117.31 arklab.ai 1j True\n"
          ]
        }
      ]
    },
    {
      "cell_type": "code",
      "source": [
        "# input\n",
        "name = input(\"Enter Your name > \")\n",
        "print (name)"
      ],
      "metadata": {
        "id": "YA_gUm2WG68F",
        "colab": {
          "base_uri": "https://localhost:8080/"
        },
        "outputId": "c9d4c857-1bdf-4ed8-ccee-3687a92438ae"
      },
      "execution_count": 1,
      "outputs": [
        {
          "output_type": "stream",
          "name": "stdout",
          "text": [
            "Enter Your name > ovi\n",
            "ovi\n"
          ]
        }
      ]
    },
    {
      "cell_type": "code",
      "source": [
        "# Oprations\n",
        "\n",
        "a = 10\n",
        "b = 2\n",
        "add = a + b\n",
        "\n",
        "sub = a - b\n",
        "\n",
        "mul = a * b\n",
        "\n",
        "mod = a % b\n",
        "\n",
        "paw = a ** b\n",
        "\n",
        "# printing value\n",
        "\n",
        "print(add)\n",
        "print(sub)\n",
        "print(mul)\n",
        "print(mod)\n",
        "print(paw)\n"
      ],
      "metadata": {
        "colab": {
          "base_uri": "https://localhost:8080/"
        },
        "id": "o3WiI8_eHLOA",
        "outputId": "5628c6da-bdbf-4019-a6f1-bd086f0ac419"
      },
      "execution_count": 3,
      "outputs": [
        {
          "output_type": "stream",
          "name": "stdout",
          "text": [
            "12\n",
            "8\n",
            "20\n",
            "0\n",
            "100\n"
          ]
        }
      ]
    },
    {
      "cell_type": "code",
      "source": [
        "# logical Oparations\n",
        "\n",
        "a = True\n",
        "b = False\n",
        "print(a and b)\n",
        "print(a or b)\n",
        "print(not a)\n"
      ],
      "metadata": {
        "colab": {
          "base_uri": "https://localhost:8080/"
        },
        "id": "Msjff5UtEv1G",
        "outputId": "e6daddc0-d7d8-429e-efca-f01aa286efc8"
      },
      "execution_count": 5,
      "outputs": [
        {
          "output_type": "stream",
          "name": "stdout",
          "text": [
            "False\n",
            "True\n",
            "False\n"
          ]
        }
      ]
    },
    {
      "cell_type": "code",
      "source": [
        "# Asignment Oparations\n",
        "\n",
        "\n",
        "a = 10\n",
        "b = a\n",
        "print(b)\n",
        "b += a\n",
        "print(b)\n",
        "b -= a\n",
        "print(b)\n",
        "b *= a\n",
        "print(b)\n",
        "b <<= a\n",
        "print(b)\n"
      ],
      "metadata": {
        "id": "ecJhe3ACFBhK"
      },
      "execution_count": 4,
      "outputs": []
    },
    {
      "cell_type": "code",
      "source": [
        "# If Else\n",
        "a = int(input(\"A = \"))  # Convert input to an integer\n",
        "b = a - 3\n",
        "if a > b:\n",
        "  print(a, \"is Greater\")\n"
      ],
      "metadata": {
        "colab": {
          "base_uri": "https://localhost:8080/"
        },
        "id": "Mpr1fInAFrY6",
        "outputId": "8d14f2e2-9e86-4090-d9c8-fa8b7f675fd8"
      },
      "execution_count": 7,
      "outputs": [
        {
          "output_type": "stream",
          "name": "stdout",
          "text": [
            "A = 12\n",
            "12 is Greater\n"
          ]
        }
      ]
    },
    {
      "cell_type": "code",
      "source": [
        "# for loop\n",
        "\n",
        "for i in range(1, 10, 2):\n",
        "    print(i)"
      ],
      "metadata": {
        "colab": {
          "base_uri": "https://localhost:8080/"
        },
        "id": "-LelHwbqHv2F",
        "outputId": "147307dc-8b4c-4a5e-e715-fc97e093ddaf"
      },
      "execution_count": 9,
      "outputs": [
        {
          "output_type": "stream",
          "name": "stdout",
          "text": [
            "1\n",
            "3\n",
            "5\n",
            "7\n",
            "9\n"
          ]
        }
      ]
    },
    {
      "cell_type": "code",
      "source": [
        "# while loop\n",
        "\n",
        "count = 0\n",
        "while (count < 3):\n",
        "    count = count + 1\n",
        "    print(\"DIU\")\n"
      ],
      "metadata": {
        "colab": {
          "base_uri": "https://localhost:8080/"
        },
        "id": "SFY7S_rsIKaI",
        "outputId": "ac0ee59f-ed0c-44e5-c4c5-c13613dcdbac"
      },
      "execution_count": 10,
      "outputs": [
        {
          "output_type": "stream",
          "name": "stdout",
          "text": [
            "DIU\n",
            "DIU\n",
            "DIU\n"
          ]
        }
      ]
    },
    {
      "cell_type": "code",
      "source": [
        "# Function\n",
        "\n",
        "def EvenOdd (num):\n",
        "  if (num % 2 == 0):\n",
        "    print (\"Even\")\n",
        "  elif (num == 0 ):\n",
        "    print (\"Zero\")\n",
        "  else :\n",
        "    print (\"Odd\")\n",
        "\n",
        "EvenOdd(5)\n"
      ],
      "metadata": {
        "colab": {
          "base_uri": "https://localhost:8080/"
        },
        "id": "lg7CfaRCIe02",
        "outputId": "928816ce-1ee2-4693-eaba-528230b4a062"
      },
      "execution_count": 13,
      "outputs": [
        {
          "output_type": "stream",
          "name": "stdout",
          "text": [
            "Odd\n"
          ]
        }
      ]
    },
    {
      "cell_type": "code",
      "source": [],
      "metadata": {
        "id": "MDa95LTXMAOV"
      },
      "execution_count": 11,
      "outputs": []
    }
  ]
}