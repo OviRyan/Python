{
 "cells": [
  {
   "cell_type": "markdown",
   "metadata": {
    "id": "nLSaqPR3GqU_"
   },
   "source": [
    "Printing"
   ]
  },
  {
   "cell_type": "code",
   "execution_count": null,
   "metadata": {
    "colab": {
     "base_uri": "https://localhost:8080/"
    },
    "id": "_oCh2Q4QDQvG",
    "outputId": "d755930d-cf8f-4034-eb4e-28f6c74d9cd5"
   },
   "outputs": [
    {
     "name": "stdout",
     "output_type": "stream",
     "text": [
      "ovi\n"
     ]
    }
   ],
   "source": [
    "print (\"ovi\")"
   ]
  },
  {
   "cell_type": "markdown",
   "metadata": {
    "id": "ryVOGkmsGvdB"
   },
   "source": [
    "comments"
   ]
  },
  {
   "cell_type": "code",
   "execution_count": null,
   "metadata": {
    "id": "UwI8RyylG4iV"
   },
   "outputs": [],
   "source": [
    "# ovi \n",
    "name = \" ovi \"\n",
    "print (name)"
   ]
  },
  {
   "cell_type": "markdown",
   "metadata": {
    "id": "9PU6a6wLHxDp"
   },
   "source": [
    "variable"
   ]
  },
  {
   "cell_type": "code",
   "execution_count": null,
   "metadata": {
    "colab": {
     "base_uri": "https://localhost:8080/"
    },
    "id": "leCdHbKFHUVm",
    "outputId": "498a7570-122b-479d-f6fb-af08942f6d38"
   },
   "outputs": [
    {
     "name": "stdout",
     "output_type": "stream",
     "text": [
      "21 117.31 arklab.ai 1j True\n"
     ]
    }
   ],
   "source": [
    "age = 21 #int\n",
    "salary = 117.31 #float\n",
    "name = \"arklab.ai\" #str\n",
    "have = 1j #complex\n",
    "real = True #bool\n",
    "\n",
    "\n",
    "print (age , salary , name, have, real)\n"
   ]
  },
  {
   "cell_type": "code",
   "execution_count": 1,
   "metadata": {
    "colab": {
     "base_uri": "https://localhost:8080/"
    },
    "id": "YA_gUm2WG68F",
    "outputId": "c9d4c857-1bdf-4ed8-ccee-3687a92438ae"
   },
   "outputs": [
    {
     "name": "stdout",
     "output_type": "stream",
     "text": [
      "Enter Your name > ovi\n",
      "ovi\n"
     ]
    }
   ],
   "source": [
    "# input\n",
    "name = input(\"Enter Your name > \")\n",
    "print (name)"
   ]
  },
  {
   "cell_type": "code",
   "execution_count": 3,
   "metadata": {
    "colab": {
     "base_uri": "https://localhost:8080/"
    },
    "id": "o3WiI8_eHLOA",
    "outputId": "5628c6da-bdbf-4019-a6f1-bd086f0ac419"
   },
   "outputs": [
    {
     "name": "stdout",
     "output_type": "stream",
     "text": [
      "12\n",
      "8\n",
      "20\n",
      "0\n",
      "100\n"
     ]
    }
   ],
   "source": [
    "# Oprations\n",
    "\n",
    "a = 10\n",
    "b = 2\n",
    "add = a + b\n",
    "\n",
    "sub = a - b\n",
    "\n",
    "mul = a * b\n",
    "\n",
    "mod = a % b\n",
    "\n",
    "paw = a ** b\n",
    "\n",
    "# printing value\n",
    "\n",
    "print(add)\n",
    "print(sub)\n",
    "print(mul)\n",
    "print(mod)\n",
    "print(paw)\n"
   ]
  },
  {
   "cell_type": "code",
   "execution_count": 5,
   "metadata": {
    "colab": {
     "base_uri": "https://localhost:8080/"
    },
    "id": "Msjff5UtEv1G",
    "outputId": "e6daddc0-d7d8-429e-efca-f01aa286efc8"
   },
   "outputs": [
    {
     "name": "stdout",
     "output_type": "stream",
     "text": [
      "False\n",
      "True\n",
      "False\n"
     ]
    }
   ],
   "source": [
    "# logical Oparations\n",
    "\n",
    "a = True\n",
    "b = False\n",
    "print(a and b)\n",
    "print(a or b)\n",
    "print(not a)\n"
   ]
  },
  {
   "cell_type": "code",
   "execution_count": 4,
   "metadata": {
    "id": "ecJhe3ACFBhK"
   },
   "outputs": [],
   "source": [
    "# Asignment Oparations\n",
    "\n",
    "\n",
    "a = 10\n",
    "b = a\n",
    "print(b)\n",
    "b += a\n",
    "print(b)\n",
    "b -= a\n",
    "print(b)\n",
    "b *= a\n",
    "print(b)\n",
    "b <<= a\n",
    "print(b)\n"
   ]
  },
  {
   "cell_type": "code",
   "execution_count": 7,
   "metadata": {
    "colab": {
     "base_uri": "https://localhost:8080/"
    },
    "id": "Mpr1fInAFrY6",
    "outputId": "8d14f2e2-9e86-4090-d9c8-fa8b7f675fd8"
   },
   "outputs": [
    {
     "name": "stdout",
     "output_type": "stream",
     "text": [
      "A = 12\n",
      "12 is Greater\n"
     ]
    }
   ],
   "source": [
    "# If Else\n",
    "a = int(input(\"A = \"))  # Convert input to an integer\n",
    "b = a - 3\n",
    "if a > b:\n",
    "  print(a, \"is Greater\")\n"
   ]
  },
  {
   "cell_type": "code",
   "execution_count": 9,
   "metadata": {
    "colab": {
     "base_uri": "https://localhost:8080/"
    },
    "id": "-LelHwbqHv2F",
    "outputId": "147307dc-8b4c-4a5e-e715-fc97e093ddaf"
   },
   "outputs": [
    {
     "name": "stdout",
     "output_type": "stream",
     "text": [
      "1\n",
      "3\n",
      "5\n",
      "7\n",
      "9\n"
     ]
    }
   ],
   "source": [
    "# for loop\n",
    "\n",
    "for i in range(1, 10, 2):\n",
    "    print(i)"
   ]
  },
  {
   "cell_type": "code",
   "execution_count": 10,
   "metadata": {
    "colab": {
     "base_uri": "https://localhost:8080/"
    },
    "id": "SFY7S_rsIKaI",
    "outputId": "ac0ee59f-ed0c-44e5-c4c5-c13613dcdbac"
   },
   "outputs": [
    {
     "name": "stdout",
     "output_type": "stream",
     "text": [
      "DIU\n",
      "DIU\n",
      "DIU\n"
     ]
    }
   ],
   "source": [
    "# while loop\n",
    "\n",
    "count = 0\n",
    "while (count < 3):\n",
    "    count = count + 1\n",
    "    print(\"DIU\")\n"
   ]
  },
  {
   "cell_type": "code",
   "execution_count": 13,
   "metadata": {
    "colab": {
     "base_uri": "https://localhost:8080/"
    },
    "id": "lg7CfaRCIe02",
    "outputId": "928816ce-1ee2-4693-eaba-528230b4a062"
   },
   "outputs": [
    {
     "name": "stdout",
     "output_type": "stream",
     "text": [
      "Odd\n"
     ]
    }
   ],
   "source": [
    "# Function\n",
    "\n",
    "def EvenOdd (num):\n",
    "  if (num % 2 == 0):\n",
    "    print (\"Even\")\n",
    "  elif (num == 0 ):\n",
    "    print (\"Zero\")\n",
    "  else :\n",
    "    print (\"Odd\")\n",
    "\n",
    "EvenOdd(5)\n"
   ]
  },
  {
   "cell_type": "code",
   "execution_count": 11,
   "metadata": {
    "id": "MDa95LTXMAOV"
   },
   "outputs": [],
   "source": []
  }
 ],
 "metadata": {
  "colab": {
   "provenance": []
  },
  "kernelspec": {
   "display_name": "Python 3",
   "name": "python3"
  },
  "language_info": {
   "name": "python"
  }
 },
 "nbformat": 4,
 "nbformat_minor": 0
}
