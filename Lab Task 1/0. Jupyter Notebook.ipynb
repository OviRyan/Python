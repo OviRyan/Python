{
 "cells": [
  {
   "cell_type": "markdown",
   "metadata": {
    "id": "nLSaqPR3GqU_"
   },
   "source": [
    "Printing"
   ]
  },
  {
   "cell_type": "code",
   "execution_count": null,
   "metadata": {
    "colab": {
     "base_uri": "https://localhost:8080/"
    },
    "id": "_oCh2Q4QDQvG",
    "outputId": "d755930d-cf8f-4034-eb4e-28f6c74d9cd5"
   },
   "outputs": [
    {
     "name": "stdout",
     "output_type": "stream",
     "text": [
      "ovi\n"
     ]
    }
   ],
   "source": [
    "print (\"ovi\")"
   ]
  },
  {
   "cell_type": "markdown",
   "metadata": {
    "id": "ryVOGkmsGvdB"
   },
   "source": [
    "comments"
   ]
  },
  {
   "cell_type": "code",
   "execution_count": null,
   "metadata": {
    "id": "UwI8RyylG4iV"
   },
   "outputs": [],
   "source": [
    "# ovi \n",
    "name = \" ovi \"\n",
    "print (name)"
   ]
  },
  {
   "cell_type": "markdown",
   "metadata": {
    "id": "9PU6a6wLHxDp"
   },
   "source": [
    "variable"
   ]
  },
  {
   "cell_type": "code",
   "execution_count": null,
   "metadata": {
    "colab": {
     "base_uri": "https://localhost:8080/"
    },
    "id": "leCdHbKFHUVm",
    "outputId": "498a7570-122b-479d-f6fb-af08942f6d38"
   },
   "outputs": [
    {
     "name": "stdout",
     "output_type": "stream",
     "text": [
      "21 117.31 arklab.ai 1j True\n"
     ]
    }
   ],
   "source": [
    "age = 21 #int\n",
    "salary = 117.31 #float\n",
    "name = \"arklab.ai\" #str\n",
    "have = 1j #complex\n",
    "real = True #bool\n",
    "\n",
    "\n",
    "print (age , salary , name, have, real)\n"
   ]
  },
  {
   "cell_type": "code",
   "execution_count": null,
   "metadata": {
    "id": "YA_gUm2WG68F"
   },
   "outputs": [],
   "source": []
  }
 ],
 "metadata": {
  "colab": {
   "provenance": []
  },
  "kernelspec": {
   "display_name": "Python 3",
   "name": "python3"
  },
  "language_info": {
   "name": "python"
  }
 },
 "nbformat": 4,
 "nbformat_minor": 0
}
